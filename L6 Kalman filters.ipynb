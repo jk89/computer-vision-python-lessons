{
 "cells": [
  {
   "cell_type": "markdown",
   "metadata": {},
   "source": [
    "# Kalman filters\n",
    "[![IMAGE ALT TEXT HERE](http://img.youtube.com/vi/F7vQXNro7pE/0.jpg)](http://www.youtube.com/watch?v=F7vQXNro7pE)\n",
    "\n",
    "\\begin{align}\n",
    "\\dot{x} & = \\sigma(y-x) \\\\\n",
    "\\dot{y} & = \\rho x - y - xz \\\\\n",
    "x = x_0 + \\dot{x} t + \\frac{1}{2} \\ddot{x} t^2 \\\\\n",
    "ω = ω_0 + \\dot{ω} t + \\frac{1}{2} \\ddot{ω} t^2\\\\\n",
    "\\end{align}"
   ]
  },
  {
   "cell_type": "code",
   "execution_count": null,
   "metadata": {},
   "outputs": [],
   "source": [
    "# x,y,z\n",
    "# theta, phi\n",
    "\n",
    "# x = x0 \n",
    "# ω=ω0+αt"
   ]
  }
 ],
 "metadata": {
  "kernelspec": {
   "display_name": "cv2",
   "language": "python",
   "name": "cv2"
  },
  "language_info": {
   "codemirror_mode": {
    "name": "ipython",
    "version": 3
   },
   "file_extension": ".py",
   "mimetype": "text/x-python",
   "name": "python",
   "nbconvert_exporter": "python",
   "pygments_lexer": "ipython3",
   "version": "3.6.9"
  }
 },
 "nbformat": 4,
 "nbformat_minor": 4
}
